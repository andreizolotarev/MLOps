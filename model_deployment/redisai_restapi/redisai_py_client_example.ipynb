{
 "cells": [
  {
   "cell_type": "markdown",
   "id": "chinese-lotus",
   "metadata": {},
   "source": [
    "## Here I checked redisai python client a bit."
   ]
  },
  {
   "cell_type": "code",
   "execution_count": 1,
   "id": "stopped-baltimore",
   "metadata": {},
   "outputs": [],
   "source": [
    "from redisai import Client"
   ]
  },
  {
   "cell_type": "markdown",
   "id": "metric-engagement",
   "metadata": {},
   "source": [
    "### Be sure that redisai is working. Run the container as it is described at README.md"
   ]
  },
  {
   "cell_type": "code",
   "execution_count": 2,
   "id": "approximate-vegetation",
   "metadata": {},
   "outputs": [],
   "source": [
    "# be sure that ports of the container and the client are matching\n",
    "con = Client(host='0.0.0.0', port=6379)"
   ]
  },
  {
   "cell_type": "code",
   "execution_count": 3,
   "id": "incorporate-creature",
   "metadata": {},
   "outputs": [
    {
     "data": {
      "text/plain": [
       "'\\nfrom sklearn.datasets import load_iris\\nfrom sklearn.model_selection import train_test_split\\nfrom sklearn.linear_model import LogisticRegression\\n\\nfrom skl2onnx import convert_sklearn\\nfrom skl2onnx.common.data_types import FloatTensorType\\n\\n# prepare the train and test data\\niris = load_iris()\\nX, y = iris.data, iris.target\\nX_train, X_test, y_train, y_test = train_test_split(X, y)\\n\\n# train a model\\nmodel = LogisticRegression(max_iter=5000)\\nmodel.fit(X_train, y_train)\\n\\n# convert the model to ONNX\\ninitial_types = [(\\'input\\', FloatTensorType([None, 4]))]\\n\\nonnx_model = convert_sklearn(model,\\n                             initial_types=initial_types)\\n\\n# save the model\\nmodel_path = \"iris_2.onnx\"\\nwith open(model_path, \"wb\") as f:\\n    f.write(onnx_model.SerializeToString())\\n# load the model\\nmodel = open(model_path, \\'rb\\').read()\\n'"
      ]
     },
     "execution_count": 3,
     "metadata": {},
     "output_type": "execute_result"
    }
   ],
   "source": [
    "## In case you need to save a model in ONNX format:\n",
    "'''\n",
    "from sklearn.datasets import load_iris\n",
    "from sklearn.model_selection import train_test_split\n",
    "from sklearn.linear_model import LogisticRegression\n",
    "\n",
    "from skl2onnx import convert_sklearn\n",
    "from skl2onnx.common.data_types import FloatTensorType\n",
    "\n",
    "# prepare the train and test data\n",
    "iris = load_iris()\n",
    "X, y = iris.data, iris.target\n",
    "X_train, X_test, y_train, y_test = train_test_split(X, y)\n",
    "\n",
    "# train a model\n",
    "model = LogisticRegression(max_iter=5000)\n",
    "model.fit(X_train, y_train)\n",
    "\n",
    "# convert the model to ONNX\n",
    "initial_types = [('input', FloatTensorType([None, 4]))]\n",
    "\n",
    "onnx_model = convert_sklearn(model,\n",
    "                             initial_types=initial_types)\n",
    "\n",
    "# save the model\n",
    "model_path = \"iris_2.onnx\"\n",
    "with open(model_path, \"wb\") as f:\n",
    "    f.write(onnx_model.SerializeToString())\n",
    "# load the model\n",
    "model = open(model_path, 'rb').read()\n",
    "'''"
   ]
  },
  {
   "cell_type": "code",
   "execution_count": 4,
   "id": "absolute-fantasy",
   "metadata": {},
   "outputs": [],
   "source": [
    "iris_model = open('iris.onnx', 'rb').read()"
   ]
  },
  {
   "cell_type": "code",
   "execution_count": 5,
   "id": "behavioral-handle",
   "metadata": {},
   "outputs": [
    {
     "data": {
      "text/plain": [
       "'OK'"
      ]
     },
     "execution_count": 5,
     "metadata": {},
     "output_type": "execute_result"
    }
   ],
   "source": [
    "# redis-cli -x AI.MODELSET model_key ONNX CPU BLOB < iris.onnx\n",
    "con.modelset(key='iris_model',\n",
    "             backend='ONNX',\n",
    "             device='CPU',\n",
    "             data=iris_model,\n",
    "             outputs=['classes', 'confidence'])"
   ]
  },
  {
   "cell_type": "code",
   "execution_count": 6,
   "id": "reflected-henry",
   "metadata": {},
   "outputs": [
    {
     "name": "stderr",
     "output_type": "stream",
     "text": [
      "/home/az/miniconda3/envs/redisai_py/lib/python3.7/site-packages/redisai/client.py:336: UserWarning: Experimental: Model List API is experimental and might change in the future without any notice\n",
      "  \"in the future without any notice\", UserWarning)\n"
     ]
    },
    {
     "data": {
      "text/plain": [
       "[['iris_model', '']]"
      ]
     },
     "execution_count": 6,
     "metadata": {},
     "output_type": "execute_result"
    }
   ],
   "source": [
    "# scan loaded to RedisAI models\n",
    "con.modelscan()"
   ]
  },
  {
   "cell_type": "code",
   "execution_count": 7,
   "id": "empty-terrorism",
   "metadata": {},
   "outputs": [
    {
     "data": {
      "text/plain": [
       "'OK'"
      ]
     },
     "execution_count": 7,
     "metadata": {},
     "output_type": "execute_result"
    }
   ],
   "source": [
    "# redis-cli AI.TENSORSET iris:in FLOAT 2 4 VALUES 5.0 3.4 1.6 0.4 6.0 2.2 5.0 1.5\n",
    "con.tensorset(key='iris', tensor=[5.0, 3.4, 1.6, 0.4, 6.0, 2.2, 5.0, 1.5], shape=[2,4], dtype='float')"
   ]
  },
  {
   "cell_type": "code",
   "execution_count": 8,
   "id": "aquatic-category",
   "metadata": {},
   "outputs": [
    {
     "data": {
      "text/plain": [
       "array([[5. , 3.4, 1.6, 0.4],\n",
       "       [6. , 2.2, 5. , 1.5]], dtype=float32)"
      ]
     },
     "execution_count": 8,
     "metadata": {},
     "output_type": "execute_result"
    }
   ],
   "source": [
    "# redis-cli AI.TENSORGET iris:in VALUES\n",
    "con.tensorget(key='iris')"
   ]
  },
  {
   "cell_type": "code",
   "execution_count": 9,
   "id": "advisory-industry",
   "metadata": {},
   "outputs": [
    {
     "data": {
      "text/plain": [
       "{'dtype': 'FLOAT', 'shape': [2, 4]}"
      ]
     },
     "execution_count": 9,
     "metadata": {},
     "output_type": "execute_result"
    }
   ],
   "source": [
    "# redis-cli AI.TENSORGET iris:in META\n",
    "con.tensorget(key='iris', meta_only=True)"
   ]
  },
  {
   "cell_type": "code",
   "execution_count": 10,
   "id": "great-economy",
   "metadata": {},
   "outputs": [
    {
     "data": {
      "text/plain": [
       "{'dtype': 'FLOAT',\n",
       " 'shape': [2, 4],\n",
       " 'values': [5.0,\n",
       "  3.4000000953674316,\n",
       "  1.600000023841858,\n",
       "  0.4000000059604645,\n",
       "  6.0,\n",
       "  2.200000047683716,\n",
       "  5.0,\n",
       "  1.5]}"
      ]
     },
     "execution_count": 10,
     "metadata": {},
     "output_type": "execute_result"
    }
   ],
   "source": [
    "# redis-cli AI.TENSORGET iris:in META VALUES\n",
    "con.tensorget(key='iris', as_numpy=False)"
   ]
  },
  {
   "cell_type": "code",
   "execution_count": 11,
   "id": "confirmed-electricity",
   "metadata": {},
   "outputs": [
    {
     "data": {
      "text/plain": [
       "'OK'"
      ]
     },
     "execution_count": 11,
     "metadata": {},
     "output_type": "execute_result"
    }
   ],
   "source": [
    "# redis-cli AI.MODELRUN iris INPUTS iris:in OUTPUTS iris:inferences iris:scores\n",
    "con.modelrun(key='iris_model', inputs='iris', outputs=['class', 'confidence'])"
   ]
  },
  {
   "cell_type": "code",
   "execution_count": 12,
   "id": "joint-stranger",
   "metadata": {},
   "outputs": [],
   "source": [
    "# let's get predictions."
   ]
  },
  {
   "cell_type": "code",
   "execution_count": 13,
   "id": "optimum-background",
   "metadata": {},
   "outputs": [
    {
     "data": {
      "text/plain": [
       "array([0, 1])"
      ]
     },
     "execution_count": 13,
     "metadata": {},
     "output_type": "execute_result"
    }
   ],
   "source": [
    "con.tensorget(key='class')"
   ]
  },
  {
   "cell_type": "code",
   "execution_count": 14,
   "id": "breeding-algorithm",
   "metadata": {},
   "outputs": [
    {
     "data": {
      "text/plain": [
       "{'dtype': 'INT64', 'shape': [2]}"
      ]
     },
     "execution_count": 14,
     "metadata": {},
     "output_type": "execute_result"
    }
   ],
   "source": [
    "con.tensorget(key='class', as_numpy=True, meta_only=True)"
   ]
  },
  {
   "cell_type": "code",
   "execution_count": 18,
   "id": "confidential-submission",
   "metadata": {},
   "outputs": [
    {
     "data": {
      "text/plain": [
       "0"
      ]
     },
     "execution_count": 18,
     "metadata": {},
     "output_type": "execute_result"
    }
   ],
   "source": [
    "con.tensorset(key='to_predict', tensor=[5.0, 3.4, 1.6, 0.4], shape=[1,4], dtype='float')\n",
    "con.modelrun(key='iris_model', inputs='to_predict', outputs=['class', 'confidence'])\n",
    "con.tensorget(key='class')[0]"
   ]
  },
  {
   "cell_type": "markdown",
   "id": "gorgeous-latex",
   "metadata": {},
   "source": [
    "### Some problems occured with the confidence score tensor obtaining, maybe it was caused by incorrect convertion to ONNX format."
   ]
  },
  {
   "cell_type": "markdown",
   "id": "invisible-soldier",
   "metadata": {},
   "source": [
    "## Now I'll build a Flask app."
   ]
  },
  {
   "cell_type": "code",
   "execution_count": null,
   "id": "eligible-kruger",
   "metadata": {},
   "outputs": [],
   "source": []
  }
 ],
 "metadata": {
  "kernelspec": {
   "display_name": "Python 3",
   "language": "python",
   "name": "python3"
  },
  "language_info": {
   "codemirror_mode": {
    "name": "ipython",
    "version": 3
   },
   "file_extension": ".py",
   "mimetype": "text/x-python",
   "name": "python",
   "nbconvert_exporter": "python",
   "pygments_lexer": "ipython3",
   "version": "3.7.6"
  }
 },
 "nbformat": 4,
 "nbformat_minor": 5
}
